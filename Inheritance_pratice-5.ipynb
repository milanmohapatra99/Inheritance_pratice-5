{
 "cells": [
  {
   "cell_type": "markdown",
   "id": "616f0af2",
   "metadata": {},
   "source": [
    "Write a class vector representing a vector of n dimension overload the + and * operator which calculates the sum and the dot product of them."
   ]
  },
  {
   "cell_type": "code",
   "execution_count": 9,
   "id": "ee8465ae",
   "metadata": {},
   "outputs": [
    {
     "name": "stdout",
     "output_type": "stream",
     "text": [
      " 1 a0 + 4 a1 + 6 a2 + 6 a3 + 32 a4 + 23 a5 \n"
     ]
    }
   ],
   "source": [
    "class Vector:\n",
    "    def __init__ (self,vec):\n",
    "        self.vec = vec\n",
    "    def __str__(self):\n",
    "        str1 = \"\"\n",
    "        index = 0\n",
    "        for i in self.vec:\n",
    "            str1 += f\" {i} a{index} +\"\n",
    "            index += 1\n",
    "        return str1[:-1]\n",
    "            \n",
    "v1 = Vector([1, 4, 6, 6,32,23])\n",
    "print(v1)\n",
    "        \n",
    "        \n",
    "        "
   ]
  },
  {
   "cell_type": "code",
   "execution_count": 6,
   "id": "542810c0",
   "metadata": {},
   "outputs": [
    {
     "name": "stdout",
     "output_type": "stream",
     "text": [
      " 2 a0 + 10 a1 + 15 a2 \n"
     ]
    }
   ],
   "source": [
    "class Vector:\n",
    "    def __init__ (self,vec):\n",
    "        self.vec = vec\n",
    "    def __str__(self):\n",
    "        str1 = \"\"\n",
    "        index = 0\n",
    "        for i in self.vec:\n",
    "            str1 += f\" {i} a{index} +\"\n",
    "            index += 1\n",
    "        return str1[:-1]\n",
    "    \n",
    "    def __add__(self,vec2):\n",
    "        newlist =[]\n",
    "        for i in range(len(self.vec)):\n",
    "            newlist.append(self.vec[i]+vec2.vec[i])\n",
    "        return Vector(newlist)    \n",
    "            \n",
    "v1 = Vector([1, 4, 6])\n",
    "v2 = Vector([1, 6, 9])\n",
    "print(v1 + v2)\n",
    "\n",
    "        \n",
    "        \n",
    "        "
   ]
  },
  {
   "cell_type": "code",
   "execution_count": 7,
   "id": "662e39b4",
   "metadata": {},
   "outputs": [
    {
     "name": "stdout",
     "output_type": "stream",
     "text": [
      "79\n"
     ]
    }
   ],
   "source": [
    "#Multiplication\n",
    "class Vector:\n",
    "    def __init__ (self,vec):\n",
    "        self.vec = vec\n",
    "    def __str__(self):\n",
    "        str1 = \"\"\n",
    "        index = 0\n",
    "        for i in self.vec:\n",
    "            str1 += f\" {i} a{index} +\"\n",
    "            index += 1\n",
    "        return str1[:-1]\n",
    "    \n",
    "    def __mul__(self,vec2):\n",
    "        sum = 0\n",
    "        for i in range(len(self.vec)):\n",
    "            sum += self.vec[i] * vec2.vec[i]\n",
    "        return sum    \n",
    "            \n",
    "v1 = Vector([1, 4, 6])\n",
    "v2 = Vector([1, 6, 9])\n",
    "print(v1 * v2)\n",
    "\n",
    "        \n",
    "        \n",
    "        "
   ]
  },
  {
   "cell_type": "code",
   "execution_count": null,
   "id": "2c47f089",
   "metadata": {},
   "outputs": [],
   "source": []
  }
 ],
 "metadata": {
  "kernelspec": {
   "display_name": "Python 3 (ipykernel)",
   "language": "python",
   "name": "python3"
  },
  "language_info": {
   "codemirror_mode": {
    "name": "ipython",
    "version": 3
   },
   "file_extension": ".py",
   "mimetype": "text/x-python",
   "name": "python",
   "nbconvert_exporter": "python",
   "pygments_lexer": "ipython3",
   "version": "3.9.7"
  }
 },
 "nbformat": 4,
 "nbformat_minor": 5
}
